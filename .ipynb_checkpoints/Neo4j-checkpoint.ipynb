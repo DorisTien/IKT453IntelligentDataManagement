{
 "cells": [
  {
   "cell_type": "code",
   "execution_count": 2,
   "id": "77b69691-eb6a-42f5-871f-775a1ccf665a",
   "metadata": {},
   "outputs": [
    {
     "name": "stdout",
     "output_type": "stream",
     "text": [
      "Collecting neo4j\n",
      "  Downloading neo4j-5.28.1-py3-none-any.whl.metadata (5.9 kB)\n",
      "Requirement already satisfied: pytz in c:\\users\\doris\\appdata\\local\\programs\\python\\python311\\lib\\site-packages (from neo4j) (2023.3)\n",
      "Downloading neo4j-5.28.1-py3-none-any.whl (312 kB)\n",
      "Installing collected packages: neo4j\n",
      "Successfully installed neo4j-5.28.1\n",
      "Note: you may need to restart the kernel to use updated packages.\n"
     ]
    },
    {
     "name": "stderr",
     "output_type": "stream",
     "text": [
      "WARNING: Ignoring invalid distribution ~atplotlib (C:\\Users\\doris\\AppData\\Local\\Programs\\Python\\Python311\\Lib\\site-packages)\n",
      "WARNING: Ignoring invalid distribution ~atplotlib (C:\\Users\\doris\\AppData\\Local\\Programs\\Python\\Python311\\Lib\\site-packages)\n",
      "WARNING: Ignoring invalid distribution ~atplotlib (C:\\Users\\doris\\AppData\\Local\\Programs\\Python\\Python311\\Lib\\site-packages)\n",
      "\n",
      "[notice] A new release of pip is available: 24.3.1 -> 25.0.1\n",
      "[notice] To update, run: python.exe -m pip install --upgrade pip\n"
     ]
    }
   ],
   "source": [
    "%pip install neo4j"
   ]
  },
  {
   "cell_type": "code",
   "execution_count": 13,
   "id": "39782937-630b-4136-8e80-d387f642c6a0",
   "metadata": {},
   "outputs": [
    {
     "name": "stdout",
     "output_type": "stream",
     "text": [
      "Connected to Neo4j at bolt://localhost:7687\n"
     ]
    }
   ],
   "source": [
    "from neo4j import GraphDatabase\n",
    "\n",
    "uri = \"bolt://localhost:7687\"  # Change if needed\n",
    "user = \"neo4j\"\n",
    "password = \"your_password\"\n",
    "\n",
    "driver = GraphDatabase.driver(uri, auth=(user, password))\n",
    "print(f\"Connected to Neo4j at {uri}\")\n"
   ]
  },
  {
   "cell_type": "code",
   "execution_count": 20,
   "id": "f07053c2-71a2-4f9b-87db-cf18954c2a2c",
   "metadata": {},
   "outputs": [
    {
     "name": "stdout",
     "output_type": "stream",
     "text": [
      "Connection successful\n"
     ]
    }
   ],
   "source": [
    "\n",
    "\n",
    "# Correct database name (from SHOW DATABASES result)\n",
    "database_name = \"neo4j\"\n",
    "\n",
    "# Neo4j connection details\n",
    "uri = \"bolt://localhost:7687\"\n",
    "user = \"neo4j\"\n",
    "password = \"123456789\"\n",
    "\n",
    "# Initialize driver\n",
    "driver = GraphDatabase.driver(uri, auth=(user, password))\n",
    "\n",
    "# Function to test connection\n",
    "def test_connection():\n",
    "    with driver.session(database=database_name) as session:\n",
    "        result = session.run(\"RETURN 'Connection successful' AS msg\")\n",
    "        print(result.single()[\"msg\"])\n",
    "\n",
    "test_connection()\n",
    "\n",
    "\n"
   ]
  },
  {
   "cell_type": "code",
   "execution_count": 28,
   "id": "7efdaf83-ae8d-4f3c-aa0c-b509f3ffae34",
   "metadata": {},
   "outputs": [
    {
     "name": "stdout",
     "output_type": "stream",
     "text": [
      "Columns in CSV: Index(['index', 'Order ID', 'Date', 'Status', 'Fulfilment', 'Sales Channel ',\n",
      "       'ship-service-level', 'Style', 'SKU', 'Category', 'Size', 'ASIN',\n",
      "       'Courier Status', 'Qty', 'currency', 'Amount', 'ship-city',\n",
      "       'ship-state', 'ship-postal-code', 'ship-country', 'promotion-ids',\n",
      "       'B2B', 'fulfilled-by', 'Unnamed: 22'],\n",
      "      dtype='object')\n",
      "\n",
      "Data Types:\n",
      "index                   int64\n",
      "Order ID               object\n",
      "Date                   object\n",
      "Status                 object\n",
      "Fulfilment             object\n",
      "Sales Channel          object\n",
      "ship-service-level     object\n",
      "Style                  object\n",
      "SKU                    object\n",
      "Category               object\n",
      "Size                   object\n",
      "ASIN                   object\n",
      "Courier Status         object\n",
      "Qty                     int64\n",
      "currency               object\n",
      "Amount                float64\n",
      "ship-city              object\n",
      "ship-state             object\n",
      "ship-postal-code      float64\n",
      "ship-country           object\n",
      "promotion-ids          object\n",
      "B2B                      bool\n",
      "fulfilled-by           object\n",
      "Unnamed: 22            object\n",
      "dtype: object\n",
      "\n",
      "First 10 rows:\n",
      "   index             Order ID      Date                        Status  \\\n",
      "0      0  405-8078784-5731545  04-30-22                     Cancelled   \n",
      "1      1  171-9198151-1101146  04-30-22  Shipped - Delivered to Buyer   \n",
      "2      2  404-0687676-7273146  04-30-22                       Shipped   \n",
      "3      3  403-9615377-8133951  04-30-22                     Cancelled   \n",
      "4      4  407-1069790-7240320  04-30-22                       Shipped   \n",
      "5      5  404-1490984-4578765  04-30-22                       Shipped   \n",
      "6      6  408-5748499-6859555  04-30-22                       Shipped   \n",
      "7      7  406-7807733-3785945  04-30-22  Shipped - Delivered to Buyer   \n",
      "8      8  407-5443024-5233168  04-30-22                     Cancelled   \n",
      "9      9  402-4393761-0311520  04-30-22                       Shipped   \n",
      "\n",
      "  Fulfilment Sales Channel  ship-service-level    Style                  SKU  \\\n",
      "0   Merchant      Amazon.in           Standard   SET389       SET389-KR-NP-S   \n",
      "1   Merchant      Amazon.in           Standard  JNE3781      JNE3781-KR-XXXL   \n",
      "2     Amazon      Amazon.in          Expedited  JNE3371        JNE3371-KR-XL   \n",
      "3   Merchant      Amazon.in           Standard    J0341           J0341-DR-L   \n",
      "4     Amazon      Amazon.in          Expedited  JNE3671      JNE3671-TU-XXXL   \n",
      "5     Amazon      Amazon.in          Expedited   SET264      SET264-KR-NP-XL   \n",
      "6     Amazon      Amazon.in          Expedited    J0095          J0095-SET-L   \n",
      "7   Merchant      Amazon.in           Standard  JNE3405         JNE3405-KR-S   \n",
      "8     Amazon      Amazon.in          Expedited   SET200  SET200-KR-NP-A-XXXL   \n",
      "9     Amazon      Amazon.in          Expedited  JNE3461       JNE3461-KR-XXL   \n",
      "\n",
      "        Category  ... currency  Amount    ship-city     ship-state  \\\n",
      "0            Set  ...      INR  647.62       MUMBAI    MAHARASHTRA   \n",
      "1          kurta  ...      INR  406.00    BENGALURU      KARNATAKA   \n",
      "2          kurta  ...      INR  329.00  NAVI MUMBAI    MAHARASHTRA   \n",
      "3  Western Dress  ...      INR  753.33   PUDUCHERRY     PUDUCHERRY   \n",
      "4            Top  ...      INR  574.00      CHENNAI     TAMIL NADU   \n",
      "5            Set  ...      INR  824.00    GHAZIABAD  UTTAR PRADESH   \n",
      "6            Set  ...      INR  653.00   CHANDIGARH     CHANDIGARH   \n",
      "7          kurta  ...      INR  399.00    HYDERABAD      TELANGANA   \n",
      "8            Set  ...      NaN     NaN    HYDERABAD      TELANGANA   \n",
      "9          kurta  ...      INR  363.00      Chennai     TAMIL NADU   \n",
      "\n",
      "  ship-postal-code  ship-country  \\\n",
      "0         400081.0            IN   \n",
      "1         560085.0            IN   \n",
      "2         410210.0            IN   \n",
      "3         605008.0            IN   \n",
      "4         600073.0            IN   \n",
      "5         201102.0            IN   \n",
      "6         160036.0            IN   \n",
      "7         500032.0            IN   \n",
      "8         500008.0            IN   \n",
      "9         600041.0            IN   \n",
      "\n",
      "                                       promotion-ids    B2B  fulfilled-by  \\\n",
      "0                                                NaN  False     Easy Ship   \n",
      "1  Amazon PLCC Free-Financing Universal Merchant ...  False     Easy Ship   \n",
      "2       IN Core Free Shipping 2015/04/08 23-48-5-108   True           NaN   \n",
      "3                                                NaN  False     Easy Ship   \n",
      "4                                                NaN  False           NaN   \n",
      "5       IN Core Free Shipping 2015/04/08 23-48-5-108  False           NaN   \n",
      "6       IN Core Free Shipping 2015/04/08 23-48-5-108  False           NaN   \n",
      "7  Amazon PLCC Free-Financing Universal Merchant ...  False     Easy Ship   \n",
      "8       IN Core Free Shipping 2015/04/08 23-48-5-108  False           NaN   \n",
      "9                                                NaN  False           NaN   \n",
      "\n",
      "  Unnamed: 22  \n",
      "0         NaN  \n",
      "1         NaN  \n",
      "2         NaN  \n",
      "3         NaN  \n",
      "4         NaN  \n",
      "5         NaN  \n",
      "6         NaN  \n",
      "7         NaN  \n",
      "8         NaN  \n",
      "9         NaN  \n",
      "\n",
      "[10 rows x 24 columns]\n"
     ]
    },
    {
     "name": "stderr",
     "output_type": "stream",
     "text": [
      "C:\\Users\\doris\\AppData\\Local\\Temp\\ipykernel_15252\\768370234.py:5: DtypeWarning: Columns (23) have mixed types. Specify dtype option on import or set low_memory=False.\n",
      "  df = pd.read_csv(csv_path)\n"
     ]
    }
   ],
   "source": [
    "import pandas as pd\n",
    "\n",
    "# Load CSV\n",
    "csv_path = r\"C:\\Users\\doris\\Desktop\\Data management\\archive\\dataset\\Amazon Sale Report.csv\"\n",
    "df = pd.read_csv(csv_path)\n",
    "\n",
    "# Display column names\n",
    "print(\"Columns in CSV:\", df.columns)\n",
    "\n",
    "# Check data types\n",
    "print(\"\\nData Types:\")\n",
    "print(df.dtypes)\n",
    "\n",
    "# Show first 10 rows to inspect Amount values\n",
    "print(\"\\nFirst 10 rows:\")\n",
    "print(df.head(10))\n",
    "\n"
   ]
  },
  {
   "cell_type": "code",
   "execution_count": 38,
   "id": "43c129dc-a292-4a10-bd92-6a4ab6f9408b",
   "metadata": {},
   "outputs": [
    {
     "name": "stdout",
     "output_type": "stream",
     "text": [
      "Processing: Amazon Sale Report.csv...\n",
      "✅ Finished uploading Amazon Sale Report.csv\n",
      "Processing: International sale Report.csv...\n",
      "✅ Finished uploading International sale Report.csv\n",
      "Processing: Sale Report.csv...\n",
      "✅ Finished uploading Sale Report.csv\n",
      "🎉 All CSV files successfully uploaded to Neo4j!\n"
     ]
    }
   ],
   "source": [
    "import os\n",
    "import pandas as pd\n",
    "from neo4j import GraphDatabase\n",
    "import re\n",
    "\n",
    "# Neo4j Connection\n",
    "uri = \"bolt://localhost:7687\"\n",
    "user = \"neo4j\"\n",
    "password = \"123456789\"\n",
    "database_name = \"neo4j\"\n",
    "\n",
    "driver = GraphDatabase.driver(uri, auth=(user, password))\n",
    "\n",
    "# Directory containing CSV files\n",
    "csv_directory = r\"C:\\Users\\doris\\Desktop\\Data management\\archive\\dataset\"\n",
    "\n",
    "# Function to execute Cypher queries\n",
    "def run_query(query, parameters=None):\n",
    "    with driver.session(database=database_name) as session:\n",
    "        session.run(query, parameters or {})\n",
    "\n",
    "# Get all CSV files in the directory\n",
    "csv_files = [f for f in os.listdir(csv_directory) if f.endswith('.csv')]\n",
    "\n",
    "# Process each CSV file\n",
    "for file in csv_files:\n",
    "    file_path = os.path.join(csv_directory, file)\n",
    "\n",
    "    print(f\"Processing: {file}...\")\n",
    "\n",
    "    # Read CSV with mixed type handling\n",
    "    df = pd.read_csv(file_path, header=0, dtype=str, low_memory=False)\n",
    "\n",
    "    # Extract filename as node label\n",
    "    node_label = re.sub(r'[^a-zA-Z0-9_]', '_', os.path.splitext(file)[0])\n",
    "\n",
    "    # Clean column names\n",
    "    df.columns = [re.sub(r'[^a-zA-Z0-9_]', '_', col.strip()) for col in df.columns]\n",
    "\n",
    "    # ✅ Only convert `Amount` if the column exists\n",
    "    if \"Amount\" in df.columns:\n",
    "        df[\"Amount\"] = pd.to_numeric(df[\"Amount\"], errors=\"coerce\")  # Convert text to float\n",
    "        df = df.dropna(subset=[\"Amount\"])  # Remove NaN values\n",
    "\n",
    "    # Get cleaned column names\n",
    "    col_names = df.columns.tolist()\n",
    "\n",
    "    # ✅ Insert data in **batches** to improve performance\n",
    "    batch_size = 1000\n",
    "    total_rows = len(df)\n",
    "    for i in range(0, total_rows, batch_size):\n",
    "        batch_df = df.iloc[i:i+batch_size]\n",
    "        batch_data = batch_df.to_dict(orient=\"records\")\n",
    "\n",
    "        with driver.session(database=database_name) as session:\n",
    "            for row in batch_data:\n",
    "                properties = \", \".join([f\"{col}: ${col}\" for col in col_names])\n",
    "                query = f\"CREATE (:{node_label} {{{properties}}});\"\n",
    "                session.run(query, row)\n",
    "\n",
    "    print(f\"✅ Finished uploading {file}\")\n",
    "\n",
    "# Close Neo4j connection\n",
    "driver.close()\n",
    "print(\"🎉 All CSV files successfully uploaded to Neo4j!\")\n"
   ]
  },
  {
   "cell_type": "code",
   "execution_count": 40,
   "id": "26ed2382-be43-4625-b817-2714ffeaae58",
   "metadata": {},
   "outputs": [
    {
     "name": "stdout",
     "output_type": "stream",
     "text": [
      "Creating relationships...\n"
     ]
    },
    {
     "name": "stderr",
     "output_type": "stream",
     "text": [
      "C:\\Users\\doris\\AppData\\Local\\Temp\\ipykernel_15252\\1776788240.py:19: DeprecationWarning: Using a driver after it has been closed is deprecated. Future versions of the driver will raise an error.\n",
      "  with driver.session(database=database_name) as session:\n"
     ]
    },
    {
     "name": "stdout",
     "output_type": "stream",
     "text": [
      "Relationships created successfully!\n"
     ]
    }
   ],
   "source": [
    "\n",
    "# **Step 2: Create Relationships**\n",
    "print(\"Creating relationships...\")\n",
    "\n",
    "relationship_query = \"\"\"\n",
    "MATCH (asr:Amazon_Sale_Report), (sr:Sale_Report)\n",
    "WHERE asr.SKU = sr.SKU_Code\n",
    "MERGE (asr)-[:MATCHES]->(sr);\n",
    "\"\"\"\n",
    "run_query(relationship_query)\n",
    "\n",
    "# ✅ FIXED LABEL: Use `International_sale_Report` (lowercase 's')\n",
    "relationship_query2 = \"\"\"\n",
    "MATCH (asr:Amazon_Sale_Report), (isr:International_sale_Report)\n",
    "WHERE asr.SKU = isr.SKU\n",
    "MERGE (asr)-[:INTERNATIONAL_MATCH]->(isr);\n",
    "\"\"\"\n",
    "batch_size = 1000  # Adjust the batch size based on available memory\n",
    "\n",
    "while True:\n",
    "    relationship_query2 = f\"\"\"\n",
    "    MATCH (asr:Amazon_Sale_Report), (isr:International_sale_Report)\n",
    "    WHERE asr.SKU = isr.SKU\n",
    "    WITH asr, isr LIMIT {batch_size}\n",
    "    MERGE (asr)-[:INTERNATIONAL_MATCH]->(isr)\n",
    "    RETURN COUNT(*);\n",
    "    \"\"\"\n",
    "    result = run_query(relationship_query2)\n",
    "    \n",
    "    # If no more matches, break the loop\n",
    "    if not result or result.single()[0] == 0:\n",
    "        break\n",
    "\n",
    "print(\"Relationships created successfully!\")\n",
    "\n",
    "\n",
    "\n"
   ]
  },
  {
   "cell_type": "code",
   "execution_count": 42,
   "id": "cff71043-3b3f-4165-934e-371659a4ad00",
   "metadata": {},
   "outputs": [
    {
     "name": "stdout",
     "output_type": "stream",
     "text": [
      "{'customer': 'MULBERRIES BOUTIQUE', 'sum_sales': 56450.28999999999}\n",
      "{'customer': 'COTTON CLOSET LTD', 'sum_sales': 54445.28}\n",
      "{'customer': 'RINO SANDARAN', 'sum_sales': 43290.57}\n",
      "{'customer': 'AMANI CONCEPT TRADING LLC (KAPDA)', 'sum_sales': 37017.0}\n",
      "{'customer': 'VAHARSHA BOUTIQUE', 'sum_sales': 35884.0}\n",
      "{'customer': 'RIVAAN LLC', 'sum_sales': 34214.86}\n",
      "{'customer': 'FUSION FASHIONS CORP.', 'sum_sales': 31442.0}\n",
      "{'customer': 'KOGILA SELLAPPAN', 'sum_sales': 29909.0}\n",
      "{'customer': 'VISHAL DARSHAN BOUTIQUE', 'sum_sales': 25927.0}\n",
      "{'customer': 'THANA MARIMUTHU', 'sum_sales': 23002.0}\n"
     ]
    },
    {
     "name": "stderr",
     "output_type": "stream",
     "text": [
      "C:\\Users\\doris\\AppData\\Local\\Temp\\ipykernel_15252\\3508370377.py:16: DeprecationWarning: Using a driver after it has been closed is deprecated. Future versions of the driver will raise an error.\n",
      "  with driver.session(database=database_name) as session:\n"
     ]
    }
   ],
   "source": [
    "# Define Cypher Query\n",
    "query = \"\"\"\n",
    "MATCH (asr:Amazon_Sale_Report)\n",
    "OPTIONAL MATCH (asr)-[:INTERNATIONAL_MATCH]->(isr:International_sale_Report)\n",
    "WITH isr.CUSTOMER AS customer, toFloat(asr.Amount) AS amount\n",
    "WHERE customer IS NOT NULL AND amount IS NOT NULL AND amount > 0\n",
    "RETURN customer, SUM(amount) AS sum_sales\n",
    "ORDER BY sum_sales DESC\n",
    "LIMIT 10;\n",
    "\n",
    "\n",
    "\"\"\"\n",
    "\n",
    "# Function to Execute Query and Return Results\n",
    "def get_top_customers():\n",
    "    with driver.session(database=database_name) as session:\n",
    "        result = session.run(query)\n",
    "        return [{\"customer\": record[\"customer\"], \"sum_sales\": record[\"sum_sales\"]} for record in result]\n",
    "\n",
    "# Run Query and Print Results\n",
    "top_customers = get_top_customers()\n",
    "for row in top_customers:\n",
    "    print(row)\n"
   ]
  },
  {
   "cell_type": "code",
   "execution_count": null,
   "id": "49c3cde0-af8a-426f-874c-e28ea5bdd370",
   "metadata": {},
   "outputs": [],
   "source": []
  }
 ],
 "metadata": {
  "kernelspec": {
   "display_name": "Python 3 (ipykernel)",
   "language": "python",
   "name": "python3"
  },
  "language_info": {
   "codemirror_mode": {
    "name": "ipython",
    "version": 3
   },
   "file_extension": ".py",
   "mimetype": "text/x-python",
   "name": "python",
   "nbconvert_exporter": "python",
   "pygments_lexer": "ipython3",
   "version": "3.11.2"
  }
 },
 "nbformat": 4,
 "nbformat_minor": 5
}
